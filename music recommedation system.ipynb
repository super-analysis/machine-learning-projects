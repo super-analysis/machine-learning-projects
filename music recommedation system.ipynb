{
 "cells": [
  {
   "cell_type": "markdown",
   "id": "5a4d9b07",
   "metadata": {},
   "source": [
    "# music recommendation system"
   ]
  },
  {
   "cell_type": "code",
   "execution_count": 1,
   "id": "20a3f238",
   "metadata": {},
   "outputs": [],
   "source": [
    "import pandas as pd\n",
    "import numpy as np\n",
    "import matplotlib.pyplot as plt\n",
    "import seaborn as sns\n",
    "import warnings\n",
    "warnings.filterwarnings('ignore')"
   ]
  },
  {
   "cell_type": "code",
   "execution_count": 2,
   "id": "1b903a17",
   "metadata": {},
   "outputs": [],
   "source": [
    "df = pd.read_csv('songdata.csv')"
   ]
  },
  {
   "cell_type": "code",
   "execution_count": 3,
   "id": "b3806129",
   "metadata": {},
   "outputs": [
    {
     "data": {
      "text/html": [
       "<div>\n",
       "<style scoped>\n",
       "    .dataframe tbody tr th:only-of-type {\n",
       "        vertical-align: middle;\n",
       "    }\n",
       "\n",
       "    .dataframe tbody tr th {\n",
       "        vertical-align: top;\n",
       "    }\n",
       "\n",
       "    .dataframe thead th {\n",
       "        text-align: right;\n",
       "    }\n",
       "</style>\n",
       "<table border=\"1\" class=\"dataframe\">\n",
       "  <thead>\n",
       "    <tr style=\"text-align: right;\">\n",
       "      <th></th>\n",
       "      <th>artist</th>\n",
       "      <th>song</th>\n",
       "      <th>link</th>\n",
       "      <th>text</th>\n",
       "    </tr>\n",
       "  </thead>\n",
       "  <tbody>\n",
       "    <tr>\n",
       "      <th>0</th>\n",
       "      <td>ABBA</td>\n",
       "      <td>Ahe's My Kind Of Girl</td>\n",
       "      <td>/a/abba/ahes+my+kind+of+girl_20598417.html</td>\n",
       "      <td>Look at her face, it's a wonderful face  \\nAnd...</td>\n",
       "    </tr>\n",
       "    <tr>\n",
       "      <th>1</th>\n",
       "      <td>ABBA</td>\n",
       "      <td>Andante, Andante</td>\n",
       "      <td>/a/abba/andante+andante_20002708.html</td>\n",
       "      <td>Take it easy with me, please  \\nTouch me gentl...</td>\n",
       "    </tr>\n",
       "    <tr>\n",
       "      <th>2</th>\n",
       "      <td>ABBA</td>\n",
       "      <td>As Good As New</td>\n",
       "      <td>/a/abba/as+good+as+new_20003033.html</td>\n",
       "      <td>I'll never know why I had to go  \\nWhy I had t...</td>\n",
       "    </tr>\n",
       "    <tr>\n",
       "      <th>3</th>\n",
       "      <td>ABBA</td>\n",
       "      <td>Bang</td>\n",
       "      <td>/a/abba/bang_20598415.html</td>\n",
       "      <td>Making somebody happy is a question of give an...</td>\n",
       "    </tr>\n",
       "    <tr>\n",
       "      <th>4</th>\n",
       "      <td>ABBA</td>\n",
       "      <td>Bang-A-Boomerang</td>\n",
       "      <td>/a/abba/bang+a+boomerang_20002668.html</td>\n",
       "      <td>Making somebody happy is a question of give an...</td>\n",
       "    </tr>\n",
       "  </tbody>\n",
       "</table>\n",
       "</div>"
      ],
      "text/plain": [
       "  artist                   song                                        link  \\\n",
       "0   ABBA  Ahe's My Kind Of Girl  /a/abba/ahes+my+kind+of+girl_20598417.html   \n",
       "1   ABBA       Andante, Andante       /a/abba/andante+andante_20002708.html   \n",
       "2   ABBA         As Good As New        /a/abba/as+good+as+new_20003033.html   \n",
       "3   ABBA                   Bang                  /a/abba/bang_20598415.html   \n",
       "4   ABBA       Bang-A-Boomerang      /a/abba/bang+a+boomerang_20002668.html   \n",
       "\n",
       "                                                text  \n",
       "0  Look at her face, it's a wonderful face  \\nAnd...  \n",
       "1  Take it easy with me, please  \\nTouch me gentl...  \n",
       "2  I'll never know why I had to go  \\nWhy I had t...  \n",
       "3  Making somebody happy is a question of give an...  \n",
       "4  Making somebody happy is a question of give an...  "
      ]
     },
     "execution_count": 3,
     "metadata": {},
     "output_type": "execute_result"
    }
   ],
   "source": [
    "df.head()"
   ]
  },
  {
   "cell_type": "code",
   "execution_count": 4,
   "id": "37be4b90",
   "metadata": {},
   "outputs": [],
   "source": [
    "df = df[['artist','song','text']]"
   ]
  },
  {
   "cell_type": "code",
   "execution_count": 5,
   "id": "6db9a804",
   "metadata": {},
   "outputs": [
    {
     "data": {
      "text/plain": [
       "(57650, 3)"
      ]
     },
     "execution_count": 5,
     "metadata": {},
     "output_type": "execute_result"
    }
   ],
   "source": [
    "df.shape"
   ]
  },
  {
   "cell_type": "code",
   "execution_count": 6,
   "id": "6743fd33",
   "metadata": {},
   "outputs": [
    {
     "data": {
      "text/html": [
       "<div>\n",
       "<style scoped>\n",
       "    .dataframe tbody tr th:only-of-type {\n",
       "        vertical-align: middle;\n",
       "    }\n",
       "\n",
       "    .dataframe tbody tr th {\n",
       "        vertical-align: top;\n",
       "    }\n",
       "\n",
       "    .dataframe thead th {\n",
       "        text-align: right;\n",
       "    }\n",
       "</style>\n",
       "<table border=\"1\" class=\"dataframe\">\n",
       "  <thead>\n",
       "    <tr style=\"text-align: right;\">\n",
       "      <th></th>\n",
       "      <th>artist</th>\n",
       "      <th>song</th>\n",
       "      <th>text</th>\n",
       "    </tr>\n",
       "  </thead>\n",
       "  <tbody>\n",
       "    <tr>\n",
       "      <th>0</th>\n",
       "      <td>ABBA</td>\n",
       "      <td>Ahe's My Kind Of Girl</td>\n",
       "      <td>Look at her face, it's a wonderful face  \\nAnd...</td>\n",
       "    </tr>\n",
       "    <tr>\n",
       "      <th>1</th>\n",
       "      <td>ABBA</td>\n",
       "      <td>Andante, Andante</td>\n",
       "      <td>Take it easy with me, please  \\nTouch me gentl...</td>\n",
       "    </tr>\n",
       "    <tr>\n",
       "      <th>2</th>\n",
       "      <td>ABBA</td>\n",
       "      <td>As Good As New</td>\n",
       "      <td>I'll never know why I had to go  \\nWhy I had t...</td>\n",
       "    </tr>\n",
       "    <tr>\n",
       "      <th>3</th>\n",
       "      <td>ABBA</td>\n",
       "      <td>Bang</td>\n",
       "      <td>Making somebody happy is a question of give an...</td>\n",
       "    </tr>\n",
       "    <tr>\n",
       "      <th>4</th>\n",
       "      <td>ABBA</td>\n",
       "      <td>Bang-A-Boomerang</td>\n",
       "      <td>Making somebody happy is a question of give an...</td>\n",
       "    </tr>\n",
       "  </tbody>\n",
       "</table>\n",
       "</div>"
      ],
      "text/plain": [
       "  artist                   song  \\\n",
       "0   ABBA  Ahe's My Kind Of Girl   \n",
       "1   ABBA       Andante, Andante   \n",
       "2   ABBA         As Good As New   \n",
       "3   ABBA                   Bang   \n",
       "4   ABBA       Bang-A-Boomerang   \n",
       "\n",
       "                                                text  \n",
       "0  Look at her face, it's a wonderful face  \\nAnd...  \n",
       "1  Take it easy with me, please  \\nTouch me gentl...  \n",
       "2  I'll never know why I had to go  \\nWhy I had t...  \n",
       "3  Making somebody happy is a question of give an...  \n",
       "4  Making somebody happy is a question of give an...  "
      ]
     },
     "execution_count": 6,
     "metadata": {},
     "output_type": "execute_result"
    }
   ],
   "source": [
    "df.head()"
   ]
  },
  {
   "cell_type": "code",
   "execution_count": 13,
   "id": "6d6f1b06",
   "metadata": {},
   "outputs": [],
   "source": [
    "df = df.sample(n=5000,).reset_index(drop=True)"
   ]
  },
  {
   "cell_type": "code",
   "execution_count": 14,
   "id": "b9f0bf24",
   "metadata": {},
   "outputs": [
    {
     "data": {
      "text/html": [
       "<div>\n",
       "<style scoped>\n",
       "    .dataframe tbody tr th:only-of-type {\n",
       "        vertical-align: middle;\n",
       "    }\n",
       "\n",
       "    .dataframe tbody tr th {\n",
       "        vertical-align: top;\n",
       "    }\n",
       "\n",
       "    .dataframe thead th {\n",
       "        text-align: right;\n",
       "    }\n",
       "</style>\n",
       "<table border=\"1\" class=\"dataframe\">\n",
       "  <thead>\n",
       "    <tr style=\"text-align: right;\">\n",
       "      <th></th>\n",
       "      <th>artist</th>\n",
       "      <th>song</th>\n",
       "      <th>text</th>\n",
       "    </tr>\n",
       "  </thead>\n",
       "  <tbody>\n",
       "    <tr>\n",
       "      <th>0</th>\n",
       "      <td>Erasure</td>\n",
       "      <td>The Soldier's Return</td>\n",
       "      <td>Slow the years go by  \\nThey stole your man of...</td>\n",
       "    </tr>\n",
       "    <tr>\n",
       "      <th>1</th>\n",
       "      <td>Chuck Berry</td>\n",
       "      <td>Jo Jo Gunne</td>\n",
       "      <td>It was in ancient history, four thousand B.C. ...</td>\n",
       "    </tr>\n",
       "    <tr>\n",
       "      <th>2</th>\n",
       "      <td>Bing Crosby</td>\n",
       "      <td>It Had To Be You</td>\n",
       "      <td>Why do I do just as you say?  \\nWhy must I jus...</td>\n",
       "    </tr>\n",
       "    <tr>\n",
       "      <th>3</th>\n",
       "      <td>Steely Dan</td>\n",
       "      <td>Let George Do It</td>\n",
       "      <td>What's this fierce new change?  \\nHas your jug...</td>\n",
       "    </tr>\n",
       "    <tr>\n",
       "      <th>4</th>\n",
       "      <td>John Waite</td>\n",
       "      <td>I'm So Lonesome I Could Cry</td>\n",
       "      <td>Hear the lonesome whippoorwill  \\nHe sounds to...</td>\n",
       "    </tr>\n",
       "  </tbody>\n",
       "</table>\n",
       "</div>"
      ],
      "text/plain": [
       "        artist                         song  \\\n",
       "0      Erasure         The Soldier's Return   \n",
       "1  Chuck Berry                  Jo Jo Gunne   \n",
       "2  Bing Crosby             It Had To Be You   \n",
       "3   Steely Dan             Let George Do It   \n",
       "4   John Waite  I'm So Lonesome I Could Cry   \n",
       "\n",
       "                                                text  \n",
       "0  Slow the years go by  \\nThey stole your man of...  \n",
       "1  It was in ancient history, four thousand B.C. ...  \n",
       "2  Why do I do just as you say?  \\nWhy must I jus...  \n",
       "3  What's this fierce new change?  \\nHas your jug...  \n",
       "4  Hear the lonesome whippoorwill  \\nHe sounds to...  "
      ]
     },
     "execution_count": 14,
     "metadata": {},
     "output_type": "execute_result"
    }
   ],
   "source": [
    "df.head()"
   ]
  },
  {
   "cell_type": "code",
   "execution_count": 15,
   "id": "bab58568",
   "metadata": {},
   "outputs": [
    {
     "data": {
      "text/plain": [
       "\"Slow the years go by  \\nThey stole your man off to war  \\nWill you see the child  \\nAs you sing battle songs?  \\n  \\nAnd it pains me  \\nTo think of the soldier's plight  \\nI will pray  \\nFor your god to guide you home  \\n  \\nAnd she cries for the soldier's return  \\nDespair at feeling alone for so long  \\nBy the light of the candle that burns  \\nFor his life for the day of the soldier's return  \\n  \\nHear the cannon fire  \\nLost voices echo in the night  \\nSee the spoils of war  \\nYoung men are falling, ooh  \\n  \\nHear the drummer  \\nMarching over the hill  \\nLove returning  \\nAnd the graves of the battle lie still  \\n  \\nAnd she cries for the soldier's return  \\nDespair at feeling alone for so long  \\nBy the light of the candle that burns  \\nFor his life for the day of the soldier's return  \\n  \\nHear the drummer  \\nMarching over the hill  \\nLove returning  \\nAnd the graves of the battle lie still  \\n  \\nAnd she cries for the soldier's return  \\nDespair at feeling alone for so long  \\nBy the light of the candle that burns  \\nFor his life for the day of the soldier's return  \\n  \\nYoung men are falling\\n\\n\""
      ]
     },
     "execution_count": 15,
     "metadata": {},
     "output_type": "execute_result"
    }
   ],
   "source": [
    "df['text'][0]"
   ]
  },
  {
   "cell_type": "code",
   "execution_count": 18,
   "id": "f9c55bc9",
   "metadata": {},
   "outputs": [],
   "source": [
    "df['text'] = df['text'].str.lower().replace(r'\\w\\s','').replace(r'\\n','',regex=True)"
   ]
  },
  {
   "cell_type": "code",
   "execution_count": 19,
   "id": "27c5901c",
   "metadata": {},
   "outputs": [
    {
     "data": {
      "text/plain": [
       "0       slow the years go by  they stole your man off ...\n",
       "1       it was in ancient history, four thousand b.c. ...\n",
       "2       why do i do just as you say?  why must i just ...\n",
       "3       what's this fierce new change?  has your jugge...\n",
       "4       hear the lonesome whippoorwill  he sounds too ...\n",
       "                              ...                        \n",
       "4995    tonight's the night we're gonna make it happen...\n",
       "4996    go woman go go woman go  there you stand to te...\n",
       "4997    she knows about me  i heard about your secret ...\n",
       "4998    i remember when  i was five and you were ten, ...\n",
       "4999    i love you honey but i hate your friends  i lo...\n",
       "Name: text, Length: 5000, dtype: object"
      ]
     },
     "execution_count": 19,
     "metadata": {},
     "output_type": "execute_result"
    }
   ],
   "source": [
    "df['text']"
   ]
  },
  {
   "cell_type": "code",
   "execution_count": 21,
   "id": "9dee8126",
   "metadata": {},
   "outputs": [],
   "source": [
    "import string\n",
    "punct = string.punctuation"
   ]
  },
  {
   "cell_type": "code",
   "execution_count": 22,
   "id": "86a3c70f",
   "metadata": {},
   "outputs": [],
   "source": [
    "def remove_punc(text):\n",
    "    return text.translate(str.maketrans('','',punct))"
   ]
  },
  {
   "cell_type": "code",
   "execution_count": 24,
   "id": "3e3a2ac6",
   "metadata": {},
   "outputs": [],
   "source": [
    "df['text'] = df['text'].apply(remove_punc)"
   ]
  },
  {
   "cell_type": "markdown",
   "id": "78d9fae0",
   "metadata": {},
   "source": [
    "# spell correct"
   ]
  },
  {
   "cell_type": "code",
   "execution_count": 25,
   "id": "b412f1a7",
   "metadata": {},
   "outputs": [],
   "source": [
    "from textblob import TextBlob"
   ]
  },
  {
   "cell_type": "code",
   "execution_count": 29,
   "id": "6c51ed4a",
   "metadata": {},
   "outputs": [],
   "source": [
    "from nltk.stem.porter import PorterStemmer"
   ]
  },
  {
   "cell_type": "code",
   "execution_count": 30,
   "id": "553ef3ac",
   "metadata": {},
   "outputs": [],
   "source": [
    "ps = PorterStemmer()"
   ]
  },
  {
   "cell_type": "code",
   "execution_count": 31,
   "id": "b577444d",
   "metadata": {},
   "outputs": [],
   "source": [
    "def stem_words(text):\n",
    "    return \" \".join([ps.stem(word) for word in text.split()])"
   ]
  },
  {
   "cell_type": "code",
   "execution_count": 32,
   "id": "dc454b75",
   "metadata": {},
   "outputs": [],
   "source": [
    "df['text'] = df['text'].apply(stem_words)"
   ]
  },
  {
   "cell_type": "code",
   "execution_count": 33,
   "id": "5fd7f1d2",
   "metadata": {},
   "outputs": [
    {
     "data": {
      "text/plain": [
       "0       slow the year go by they stole your man off to...\n",
       "1       it wa in ancient histori four thousand bc back...\n",
       "2       whi do i do just as you say whi must i just gi...\n",
       "3       what thi fierc new chang ha your juggernaut re...\n",
       "4       hear the lonesom whippoorwil he sound too blue...\n",
       "                              ...                        \n",
       "4995    tonight the night were gonna make it happen to...\n",
       "4996    go woman go go woman go there you stand to tel...\n",
       "4997    she know about me i heard about your secret li...\n",
       "4998    i rememb when i wa five and you were ten boy y...\n",
       "4999    i love you honey but i hate your friend i love...\n",
       "Name: text, Length: 5000, dtype: object"
      ]
     },
     "execution_count": 33,
     "metadata": {},
     "output_type": "execute_result"
    }
   ],
   "source": [
    "df['text']"
   ]
  },
  {
   "cell_type": "code",
   "execution_count": 34,
   "id": "8f6270a6",
   "metadata": {},
   "outputs": [],
   "source": [
    "from nltk.tokenize import word_tokenize,sent_tokenize"
   ]
  },
  {
   "cell_type": "code",
   "execution_count": 35,
   "id": "11e707f7",
   "metadata": {},
   "outputs": [
    {
     "name": "stderr",
     "output_type": "stream",
     "text": [
      "[nltk_data] Downloading package punkt to\n",
      "[nltk_data]     C:\\Users\\hp\\AppData\\Roaming\\nltk_data...\n",
      "[nltk_data]   Package punkt is already up-to-date!\n"
     ]
    },
    {
     "data": {
      "text/plain": [
       "True"
      ]
     },
     "execution_count": 35,
     "metadata": {},
     "output_type": "execute_result"
    }
   ],
   "source": [
    "import nltk\n",
    "nltk.download('punkt')"
   ]
  },
  {
   "cell_type": "code",
   "execution_count": 36,
   "id": "05cddff0",
   "metadata": {},
   "outputs": [],
   "source": [
    "def tokenization(txt):\n",
    "    tokens = nltk.word_tokenize(txt)\n",
    "    return \" \".join(tokens)"
   ]
  },
  {
   "cell_type": "code",
   "execution_count": 39,
   "id": "2812d4d3",
   "metadata": {},
   "outputs": [
    {
     "data": {
      "text/plain": [
       "0       slow the year go by they stole your man off to...\n",
       "1       it wa in ancient histori four thousand bc back...\n",
       "2       whi do i do just as you say whi must i just gi...\n",
       "3       what thi fierc new chang ha your juggernaut re...\n",
       "4       hear the lonesom whippoorwil he sound too blue...\n",
       "                              ...                        \n",
       "4995    tonight the night were gon na make it happen t...\n",
       "4996    go woman go go woman go there you stand to tel...\n",
       "4997    she know about me i heard about your secret li...\n",
       "4998    i rememb when i wa five and you were ten boy y...\n",
       "4999    i love you honey but i hate your friend i love...\n",
       "Name: text, Length: 5000, dtype: object"
      ]
     },
     "execution_count": 39,
     "metadata": {},
     "output_type": "execute_result"
    }
   ],
   "source": [
    "df['text'].apply(lambda x:tokenization(x))"
   ]
  },
  {
   "cell_type": "code",
   "execution_count": 38,
   "id": "3d89d815",
   "metadata": {},
   "outputs": [],
   "source": [
    "import nltk\n",
    "from nltk.stem.porter import PorterStemmer\n",
    "stemmer = PorterStemmer()\n",
    "\n",
    "def tokenization(txt):\n",
    "    tokens = nltk.word_tokenize(txt)\n",
    "    stemming = [stemmer.stem(w) for w in tokens]\n",
    "    return \" \".join(stemming)\n"
   ]
  },
  {
   "cell_type": "code",
   "execution_count": 40,
   "id": "804b4544",
   "metadata": {},
   "outputs": [],
   "source": [
    "from sklearn.feature_extraction.text import TfidfVectorizer\n",
    "from sklearn.metrics.pairwise import cosine_similarity"
   ]
  },
  {
   "cell_type": "code",
   "execution_count": 41,
   "id": "e2402a42",
   "metadata": {},
   "outputs": [],
   "source": [
    "tfidvector = TfidfVectorizer(analyzer='word',stop_words='english')\n",
    "matrix = tfidvector.fit_transform(df['text'])\n",
    "similarity = cosine_similarity(matrix)"
   ]
  },
  {
   "cell_type": "code",
   "execution_count": 42,
   "id": "71ba1a09",
   "metadata": {},
   "outputs": [
    {
     "data": {
      "text/plain": [
       "array([1.        , 0.01185734, 0.0114893 , ..., 0.01240307, 0.05243931,\n",
       "       0.02486694])"
      ]
     },
     "execution_count": 42,
     "metadata": {},
     "output_type": "execute_result"
    }
   ],
   "source": [
    "similarity[0]"
   ]
  },
  {
   "cell_type": "code",
   "execution_count": 43,
   "id": "57ecc6ef",
   "metadata": {},
   "outputs": [],
   "source": [
    "def recommendation(song_df):\n",
    "    idx = df[df['song'] == song_df].index[0]\n",
    "    distances = sorted(list(enumerate(similarity[idx])),reverse=True,key=lambda x:x[1])\n",
    "    \n",
    "    songs = []\n",
    "    for m_id in distances[1:21]:\n",
    "        songs.append(df.iloc[m_id[0]].song)\n",
    "        \n",
    "    return songs"
   ]
  },
  {
   "cell_type": "code",
   "execution_count": 45,
   "id": "00f6515e",
   "metadata": {},
   "outputs": [
    {
     "data": {
      "text/plain": [
       "['Goodbye Girl',\n",
       " 'Goodbye',\n",
       " \"It's Just Good-Bye\",\n",
       " 'Never Can Say Goodbye',\n",
       " 'Friends Never Say Goodbye',\n",
       " 'Goodbye Girl',\n",
       " 'Hello Goodbye',\n",
       " 'Goodbye Again',\n",
       " 'Another Last Goodbye',\n",
       " 'Down To Our Last Goodbye',\n",
       " 'You Are Not Alone',\n",
       " \"You're Kind\",\n",
       " 'Key To The Highway',\n",
       " 'Alma Mater',\n",
       " \"Rockin' Down The Highway\",\n",
       " 'Key To The Highway',\n",
       " 'Mother',\n",
       " \"Don't Say Goodbye Again\",\n",
       " 'Highway 51',\n",
       " 'Say Goodbye']"
      ]
     },
     "execution_count": 45,
     "metadata": {},
     "output_type": "execute_result"
    }
   ],
   "source": [
    "recommendation('Goodbye Highway')"
   ]
  },
  {
   "cell_type": "code",
   "execution_count": 46,
   "id": "46a5e292",
   "metadata": {},
   "outputs": [],
   "source": [
    "import pickle\n",
    "pickle.dump(similarity,open('similarity.pkl','wb'))\n",
    "pickle.dump(df,open('df.pkl','wb'))"
   ]
  },
  {
   "cell_type": "code",
   "execution_count": null,
   "id": "50063c00",
   "metadata": {},
   "outputs": [],
   "source": []
  }
 ],
 "metadata": {
  "kernelspec": {
   "display_name": "Python 3 (ipykernel)",
   "language": "python",
   "name": "python3"
  },
  "language_info": {
   "codemirror_mode": {
    "name": "ipython",
    "version": 3
   },
   "file_extension": ".py",
   "mimetype": "text/x-python",
   "name": "python",
   "nbconvert_exporter": "python",
   "pygments_lexer": "ipython3",
   "version": "3.10.9"
  }
 },
 "nbformat": 4,
 "nbformat_minor": 5
}
